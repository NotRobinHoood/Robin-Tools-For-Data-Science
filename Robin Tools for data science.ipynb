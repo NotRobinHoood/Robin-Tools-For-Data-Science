{
 "cells": [
  {
   "cell_type": "markdown",
   "id": "3920918f-f093-4f92-9c4f-7988b417da5f",
   "metadata": {},
   "source": [
    "# \"My Jupyter Notebook on IBM Watson Studio\""
   ]
  },
  {
   "cell_type": "markdown",
   "id": "eadac2d5-1925-4775-9a19-54c34bfafa5a",
   "metadata": {},
   "source": [
    "**<br>\n",
    "Robin Drayton\n",
    "</br>**\n",
    "Data Science\n"
   ]
  },
  {
   "cell_type": "markdown",
   "id": "b548b31f-1fab-40e2-88e6-3d448537f43a",
   "metadata": {},
   "source": [
    "*I have always enjoyed looking for patterns and finding connections, this is why the field of data science interests me.*"
   ]
  },
  {
   "cell_type": "markdown",
   "id": "6f34ec04-8a4b-4c10-acc1-9c8c9f3c6a3e",
   "metadata": {
    "tags": []
   },
   "source": [
    "### The code for the next cell is going to execute a simple math equation. "
   ]
  },
  {
   "cell_type": "code",
   "execution_count": 3,
   "id": "85acda77-c614-429d-90f0-5dab81dcc1f1",
   "metadata": {
    "tags": []
   },
   "outputs": [
    {
     "data": {
      "text/plain": [
       "0"
      ]
     },
     "execution_count": 3,
     "metadata": {},
     "output_type": "execute_result"
    }
   ],
   "source": [
    "2-2"
   ]
  },
  {
   "cell_type": "code",
   "execution_count": null,
   "id": "10991adc-a74d-4155-9013-008ff19fb0dc",
   "metadata": {},
   "outputs": [],
   "source": []
  },
  {
   "cell_type": "markdown",
   "id": "648b345f-92af-448b-a14e-97c6567ea5ca",
   "metadata": {},
   "source": [
    "To ~~help~~ _complete_ with this I used the link below\n",
    "<br>\n",
    "<a href=\"https://github.com/adam-p/markdown-here/wiki/Markdown-Cheatsheet#tables\"> Markdown Cheatsheet </a></br>\n",
    "\n",
    "|Name|Task|Description|\n",
    "|---|---|---|\n",
    "Robin|Include 3 things| Strikethrough, Hyperlink and Table|"
   ]
  },
  {
   "cell_type": "code",
   "execution_count": null,
   "id": "f33baf3a-2d3d-4dd1-b3d8-a56f9717d754",
   "metadata": {},
   "outputs": [],
   "source": []
  }
 ],
 "metadata": {
  "kernelspec": {
   "display_name": "Python",
   "language": "python",
   "name": "conda-env-python-py"
  },
  "language_info": {
   "codemirror_mode": {
    "name": "ipython",
    "version": 3
   },
   "file_extension": ".py",
   "mimetype": "text/x-python",
   "name": "python",
   "nbconvert_exporter": "python",
   "pygments_lexer": "ipython3",
   "version": "3.7.12"
  }
 },
 "nbformat": 4,
 "nbformat_minor": 5
}
